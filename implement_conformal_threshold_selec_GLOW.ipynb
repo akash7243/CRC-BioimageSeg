{
 "cells": [
  {
   "cell_type": "code",
   "execution_count": 1,
   "id": "ba9f8ae2",
   "metadata": {},
   "outputs": [],
   "source": [
    "import numpy as np\n",
    "import seaborn as sns\n",
    "import torch\n",
    "import random\n",
    "import pathlib\n",
    "import os\n",
    "import glob\n",
    "import scipy\n",
    "import cv2\n",
    "import math\n",
    "from matplotlib import pyplot as plt\n",
    "import pandas as pd\n",
    "from skimage.transform import resize\n",
    "import tqdm\n",
    "import torch.nn.functional as F\n",
    "\n",
    "from PraNet.utils.dataloader import test_dataset\n",
    "from PraNet.lib.PraNet_Res2Net import PraNet\n",
    "from skimage.filters import gaussian\n",
    "from skimage.morphology import label as connected_components"
   ]
  },
  {
   "cell_type": "code",
   "execution_count": 2,
   "id": "84294fb8",
   "metadata": {},
   "outputs": [],
   "source": [
    "# !nvidia-smi"
   ]
  },
  {
   "cell_type": "markdown",
   "id": "86ec0a5f",
   "metadata": {},
   "source": [
    "## Data Preparation"
   ]
  },
  {
   "cell_type": "code",
   "execution_count": null,
   "id": "b8743289",
   "metadata": {},
   "outputs": [],
   "source": []
  },
  {
   "cell_type": "code",
   "execution_count": 3,
   "id": "6ec90c45",
   "metadata": {},
   "outputs": [],
   "source": [
    "## libraries for data loader \n",
    "import glob\n",
    "import sys\n",
    "import torch\n",
    "sys.path.insert(0,'/media/htic/_srv_Data/Ayantika_codebase/datasets/')\n",
    "import slice_data_h5 as sdl_h5\n",
    "from monai.transforms import (\n",
    "    Orientationd, AddChanneld, Compose, ToTensord, Spacingd,Resized,ScaleIntensityD,ResizeWithPadOrCropd\n",
    "    # ScaleIntensityD, ScaleIntensityRangeD, AdjustContrastD, RandAffined, ToNumpyd,RepeatChannelD\n",
    ")\n",
    "transforms1 = Compose(\n",
    "    [\n",
    "     AddChanneld(('image','label')),\n",
    "     Orientationd(('image','label'),'RAS'),\n",
    "#      Spacingd(('image','label'),(1,1,1)),        \n",
    "     Resized(keys = ('image'),spatial_size = (128, 128,-1),mode = 'trilinear' ,align_corners = True),\n",
    "     Resized(keys = ('label'),spatial_size = (128, 128,-1),mode = 'nearest' ),\n",
    "     ScaleIntensityD(('image',)),\n",
    "     ToTensord(('image','label')),\n",
    "    ]\n",
    ")\n",
    "brats_datapath_1 = '/media/htic/_srv_Data/brain/BRATS_HGG_T2/**_t2.nii.gz'\n",
    "trainlist_1 = [{'image':x} for x in glob.glob(brats_datapath_1)]\n",
    "datalist = trainlist_1\n",
    "\n",
    "masklist = [{'label':x.split('_t2.nii.gz')[0]+'_seg.nii'} for x in glob.glob(brats_datapath_1)]\n",
    "\n",
    "### The loader is such that it would create h5 files if they are not created when the loader is called and executed\n",
    "h5cachedir_ = '/media/htic/_srv_Data/brain/h5_data/BRATS_T2'                                                                  \n",
    "h5cacheds = sdl_h5.H5CachedDataset(datalist,masklist,transforms1,h5cachedir=h5cachedir_)\n",
    "#                                    nslices_per_image = 155,\\\n",
    "#                                    start_slice = 0,end_slice = 1)\n",
    "#                                    start_slice = 60,end_slice = 90)\n",
    "torch.multiprocessing.set_sharing_strategy('file_system')\n",
    "brats_loader = torch.utils.data.DataLoader(h5cacheds,batch_size = 1,\\\n",
    "                                           shuffle = True ,num_workers= 1)# ,pin_memory = True)\n"
   ]
  },
  {
   "cell_type": "code",
   "execution_count": 4,
   "id": "0291c0e9",
   "metadata": {},
   "outputs": [
    {
     "name": "stderr",
     "output_type": "stream",
     "text": [
      "/media/htic/_srv_Data/Ayantika_codebase/models/glow_model_Copy1.py:103: UserWarning: The given NumPy array is not writable, and PyTorch does not support non-writable tensors. This means writing to this tensor will result in undefined behavior. You may want to copy the array to protect its data or make it writable before converting it to a tensor. This type of warning will be suppressed for the rest of this program. (Triggered internally at  ../torch/csrc/utils/tensor_numpy.cpp:178.)\n",
      "  w_s = torch.from_numpy(w_s)\n"
     ]
    }
   ],
   "source": [
    "import argparse\n",
    "from omegaconf import OmegaConf\n",
    "parser = argparse.ArgumentParser(description=\"Glow trainer\")\n",
    "parser.add_argument(\"--batch\", default=5, type=int, help=\"batch size\")\n",
    "parser.add_argument(\"--epoch\", default=10, type=int, help=\"maximum iterations\")\n",
    "parser.add_argument(\n",
    "    \"--n_flow\", default=32, type=int, help=\"number of flows in each block\"\n",
    ")\n",
    "parser.add_argument(\"--n_block\", default=4, type=int, help=\"number of blocks\")\n",
    "parser.add_argument(\n",
    "    \"--no_lu\",\n",
    "    action=\"store_true\",\n",
    "    help=\"use plain convolution instead of LU decomposed version\",\n",
    ")\n",
    "parser.add_argument(\n",
    "    \"--affine\", action=\"store_true\", help=\"use affine coupling instead of additive\"\n",
    ")\n",
    "parser.add_argument(\"--n_bits\", default=5, type=int, help=\"number of bits\")\n",
    "parser.add_argument(\"--lr\", default=1e-4, type=float, help=\"learning rate\")\n",
    "parser.add_argument(\"--img_size\", default=128, type=int, help=\"image size\")\n",
    "parser.add_argument(\"--temp\", default=0.7, type=float, help=\"temperature of sampling\")\n",
    "parser.add_argument(\"--n_sample\", default=20, type=int, help=\"number of samples\")\n",
    "args = parser.parse_args('')\n",
    "args_dict = vars(args)\n",
    "\n",
    "conf_ = OmegaConf.create(args_dict)\n",
    "OmegaConf.save(config=conf_, f='./glow_args.yaml')\n",
    "OmegaConf.to_yaml(conf_)\n",
    "args= OmegaConf.load('./glow_args.yaml') \n",
    "\n",
    "import sys\n",
    "sys.path.insert(0,'/media/htic/_srv_Data/Ayantika_codebase/')\n",
    "from models.glow_model_Copy1 import Glow\n",
    "model_single = Glow(\n",
    "        1, args.n_flow, args.n_block, affine=args.affine, conv_lu=not args.no_lu\n",
    "    )\n",
    "    \n",
    "model = torch.nn.DataParallel(model_single)\n",
    "# model = model_single\n",
    "\n",
    "\n",
    "weights_path = '/media/htic/_srv_Data/Research/MICCAI_Disentanglement/best_weights/model_000009.pth'\n",
    "model.load_state_dict(torch.load(weights_path))\n",
    "device = torch.device(\"cuda\" if torch.cuda.is_available() else \"cpu\")\n",
    "model = model.to(device)"
   ]
  },
  {
   "cell_type": "code",
   "execution_count": 5,
   "id": "03d5c7c5",
   "metadata": {},
   "outputs": [],
   "source": [
    "z_sample_norm = lambda z_sample: z_sample*(3/torch.abs(z_sample.max()))\n",
    "# z_sample_norm = lambda z_sample: z_sample/torch.linalg.norm(z_sample)\n",
    "\n",
    "def norm_to_gauss_sample(latent_space):\n",
    "    z_sample=latent_space\n",
    "    z_sample_= []\n",
    "    z_sample_.append(z_sample_norm(z_sample[0]))\n",
    "    z_sample_.append(z_sample_norm(z_sample[1]))\n",
    "    z_sample_.append(z_sample_norm(z_sample[2]))\n",
    "    z_sample_.append(z_sample_norm(z_sample[3]))\n",
    "    \n",
    "    return z_sample_\n",
    "\n",
    "\n",
    "def return_reconstruction(latent_space):\n",
    "    z_sample = norm_to_gauss_sample(latent_space)\n",
    "    z_sample_img = model_single.reverse(z_sample,reconstruct=False).cpu().data\n",
    "    return z_sample_img\n",
    "\n",
    "\n",
    "image_norm = lambda image_: (image_ - image_.min())/(image_.max() - image_.min())"
   ]
  },
  {
   "cell_type": "code",
   "execution_count": 25,
   "id": "d5ba67b0",
   "metadata": {},
   "outputs": [
    {
     "data": {
      "text/plain": [
       "tensor(False)"
      ]
     },
     "execution_count": 25,
     "metadata": {},
     "output_type": "execute_result"
    }
   ],
   "source": [
    "torch.sum(image_['label'][130:131,0,:,:]) == 0"
   ]
  },
  {
   "cell_type": "code",
   "execution_count": 53,
   "id": "b659373b",
   "metadata": {},
   "outputs": [
    {
     "name": "stderr",
     "output_type": "stream",
     "text": [
      "  0%|                                                                                         | 0/27720 [00:00<?, ?it/s]/home/htic/GE_APW/lib/python3.8/site-packages/torch/nn/parallel/_functions.py:68: UserWarning: Was asked to gather along dimension 0, but all input tensors were scalars; will instead unsqueeze and return a vector.\n",
      "  warnings.warn('Was asked to gather along dimension 0, but all '\n",
      " 62%|█████████████████████████████████████████████▏                           | 17159/27720 [1:48:33<2:07:35,  1.38it/s]IOPub message rate exceeded.\n",
      "The notebook server will temporarily stop sending output\n",
      "to the client in order to avoid crashing it.\n",
      "To change this limit, set the config variable\n",
      "`--NotebookApp.iopub_msg_rate_limit`.\n",
      "\n",
      "Current values:\n",
      "NotebookApp.iopub_msg_rate_limit=1000.0 (msgs/sec)\n",
      "NotebookApp.rate_limit_window=3.0 (secs)\n",
      "\n"
     ]
    }
   ],
   "source": [
    "dict_save = {}\n",
    "set_names = \"img_org, img_,recon_ , res , label\"\n",
    "set_names_list = set_names.split(',')\n",
    "\n",
    "n_bins = 2.0 ** args.n_bits\n",
    "with torch.no_grad():\n",
    "    for i,image_ in enumerate(tqdm.tqdm(brats_loader)):  \n",
    "        if torch.sum(image_['label'][:,:,:,:]) != 0:\n",
    "            image = image_['image'][:,:,:,:].to(device)\n",
    "\n",
    "            image = image * 255\n",
    "\n",
    "            if args.n_bits < 8:\n",
    "                image = torch.floor(image / 2 ** (8 - args.n_bits))\n",
    "\n",
    "            image = image / n_bins - 0.5   \n",
    "\n",
    "            if True:\n",
    "                with torch.no_grad():\n",
    "                     out,log_p, logdet, latent_space= model(\n",
    "                        image + torch.rand_like(image) / n_bins\n",
    "                    )\n",
    "    #                     image + torch.rand_like(image) / n_bins\n",
    "\n",
    "\n",
    "            else:\n",
    "                with torch.no_grad():\n",
    "                    out,log_p, logdet, latent_space = model(image + torch.rand_like(image) / n_bins)\n",
    "                    \n",
    "            z_sample_img = return_reconstruction(latent_space)\n",
    "            \n",
    "            img_org = image_['image'][0,0,:,:]\n",
    "            img_ = image[0,0,:,:].cpu() \n",
    "            recon_ = z_sample_img[0,0,:,:].cpu()\n",
    "            res = (img_- recon_) \n",
    "            label = image_['label'][0,0,:,:]\n",
    "            imgs_set = img_org, img_,recon_ , res , label\n",
    "            imgs_set_norm = [image_norm(i) for i in imgs_set]\n",
    "            \n",
    "            for (val,names) in zip(imgs_set_norm,set_names_list):\n",
    "                if names not in dict_save.keys():\n",
    "                    dict_save.update({names:val.unsqueeze(dim=0)})\n",
    "                else:\n",
    "                    dict_save[names] = torch.cat((dict_save[names],val.unsqueeze(dim=0)),dim=0)\n",
    "\n",
    "\n",
    "\n",
    "#             break\n"
   ]
  },
  {
   "cell_type": "code",
   "execution_count": 58,
   "id": "e981814b",
   "metadata": {},
   "outputs": [],
   "source": [
    "# create torch files accumulating all of thes\n",
    "# i"
   ]
  },
  {
   "cell_type": "code",
   "execution_count": 68,
   "id": "daa3c108",
   "metadata": {},
   "outputs": [],
   "source": [
    "# dict_save\n",
    "# dict_keys(['img_org', ' img_', 'recon_ ', ' res ', ' label'])"
   ]
  },
  {
   "cell_type": "code",
   "execution_count": 102,
   "id": "3a776a0e",
   "metadata": {},
   "outputs": [],
   "source": [
    "\n",
    "patch_gt_inst__ = dict_save[' label'][0:1000,:,:]\n",
    "patch_pred_inst__ = dict_save[' res '][0:1000,:,:] * (dict_save[' img_'][0:1000,:,:]>0)\n",
    "masks = patch_gt_inst__\n",
    "regions = patch_pred_inst__"
   ]
  },
  {
   "cell_type": "code",
   "execution_count": 112,
   "id": "eefc1412",
   "metadata": {},
   "outputs": [],
   "source": [
    "# torch.sum(masks[0])\n",
    "# plt.imshow(patch_pred_inst__[180,:,:])"
   ]
  },
  {
   "cell_type": "markdown",
   "id": "d3c696cf",
   "metadata": {},
   "source": [
    "## Conformal"
   ]
  },
  {
   "cell_type": "code",
   "execution_count": 260,
   "id": "6a78580e",
   "metadata": {},
   "outputs": [],
   "source": [
    "def loss_False_Pos(T, risk_mass, masks): # lambda in [-1,0]\n",
    "    # Get the missed pixels \n",
    "    num_polyps = masks.max(dim=1)[0].max(dim=1)[0]\n",
    "\n",
    "    False_pos = (T.to(int) - (masks>0).to(int))\n",
    "    F.relu(False_pos, inplace=True) \n",
    "    # False_pos = False_pos * masks\n",
    "    results_perpolyp = torch.zeros((num_polyps.sum().int().item(), \\\n",
    "                                    masks.shape[1], masks.shape[2]))\n",
    "    #     print(\"num_polyps\",num_polyps.sum().int().item())\n",
    "    masks_perpolyp = torch.zeros_like(results_perpolyp)\n",
    "    # results_perpolyp.shape\n",
    "    k = 0\n",
    "    for n in range(num_polyps.max().int().item()):\n",
    "        filter_bool = (num_polyps >= n + 1) # 1, 2, 3 polyps \n",
    "        temp_False_pos = False_pos[filter_bool]\n",
    "        temp_masks = masks[filter_bool]\n",
    "        results_perpolyp[k:k+temp_False_pos.shape[0]] = (temp_False_pos == n + 1)\n",
    "        masks_perpolyp[k:k+temp_False_pos.shape[0]] = (temp_masks == n+1)\n",
    "        k += temp_False_pos.shape[0] \n",
    "        \n",
    "    results_perpolyp = results_perpolyp.to(float).sum(dim=1).sum(dim=1)/((128*128) - masks_perpolyp.sum(dim=1).sum(dim=1))\n",
    "    return results_perpolyp"
   ]
  },
  {
   "cell_type": "code",
   "execution_count": 261,
   "id": "77142b2b",
   "metadata": {},
   "outputs": [],
   "source": [
    "def get_example_loss_and_size_tables_False_Pos(regions, masks, lambdas_example_table, num_calib):\n",
    "    lam_len = len(lambdas_example_table)\n",
    "    lam_low = min(lambdas_example_table)\n",
    "    lam_high = max(lambdas_example_table)\n",
    "    fname_loss = f'.cache_trained/{lam_low}_{lam_high}_{lam_len}_example_loss_table.npy'\n",
    "    fname_sizes = f'.cache_trained/{lam_low}_{lam_high}_{lam_len}_example_size_table.npy'\n",
    "    try:\n",
    "        loss_table = np.load(fname_loss)\n",
    "        sizes_table = np.load(fname_sizes)\n",
    "    except:\n",
    "        print(\"computing loss and size table\")\n",
    "        loss_table = np.zeros((regions.shape[0], lam_len))\n",
    "        sizes_table = np.zeros((regions.shape[0], lam_len))\n",
    "#         print(loss_table.shape,sizes_table.shape)\n",
    "        for j in tqdm.tqdm(range(lam_len)):\n",
    "            est_regions = (regions >= -lambdas_example_table[j])\n",
    "#             print(\"loss_False_Neg\",loss_False_Neg(est_regions, regions, masks).shape)\n",
    "#             print(\"loss_table[:,j] \",loss_table[:,j].shape)\n",
    "            loss_table[:,j] = loss_False_Pos(est_regions, regions, masks) \n",
    "            sizes_table[:,j] = est_regions.sum(dim=1).sum(dim=1)/((128*128) - masks.sum(dim=1).sum(dim=1))\n",
    "\n",
    "        np.save(fname_loss, loss_table)\n",
    "        np.save(fname_sizes, sizes_table)\n",
    "\n",
    "\n",
    "        return loss_table, sizes_table\n",
    "# example_loss_table, example_sizes_table = get_example_loss_and_size_tables(regions, masks, \\\n",
    "#                                                                                    lambdas_example_table, \\\n",
    "#                                                                                    num_calib)"
   ]
  },
  {
   "cell_type": "code",
   "execution_count": 262,
   "id": "8e57525d",
   "metadata": {},
   "outputs": [],
   "source": [
    "def loss_False_Neg(T, risk_mass, masks): # lambda in [-1,0]\n",
    "    # Get the missed pixels \n",
    "    num_polyps = masks.max(dim=1)[0].max(dim=1)[0]\n",
    "    \n",
    "    missed = ((masks>0).to(int) - T.to(int)) # as lambda grows, the sets grow.\n",
    "    F.relu(missed, inplace=True) \n",
    "    # Split the different polyps into different rows.\n",
    "    missed = missed * masks\n",
    "    results_perpolyp = torch.zeros((num_polyps.sum().int().item(), \\\n",
    "                                    masks.shape[1], masks.shape[2]))\n",
    "#     print(\"num_polyps\",num_polyps.sum().int().item())\n",
    "    masks_perpolyp = torch.zeros_like(results_perpolyp)\n",
    "    k = 0\n",
    "    for n in range(num_polyps.max().int().item()):\n",
    "        filter_bool = (num_polyps >= n + 1) # 1, 2, 3 polyps \n",
    "        temp_missed = missed[filter_bool]\n",
    "        temp_masks = masks[filter_bool]\n",
    "        results_perpolyp[k:k+temp_missed.shape[0]] = (temp_missed == n + 1)\n",
    "        masks_perpolyp[k:k+temp_missed.shape[0]] = (temp_masks == n+1)\n",
    "        k += temp_missed.shape[0] \n",
    "    results_perpolyp = results_perpolyp.to(float).sum(dim=1).sum(dim=1)/masks_perpolyp.sum(dim=1).sum(dim=1)    \n",
    "    return results_perpolyp"
   ]
  },
  {
   "cell_type": "code",
   "execution_count": 263,
   "id": "84f4dffe",
   "metadata": {},
   "outputs": [],
   "source": [
    "def get_example_loss_and_size_tables(regions, masks, lambdas_example_table, num_calib):\n",
    "    lam_len = len(lambdas_example_table)\n",
    "    lam_low = min(lambdas_example_table)\n",
    "    lam_high = max(lambdas_example_table)\n",
    "    fname_loss = f'.cache_trained/{lam_low}_{lam_high}_{lam_len}_example_loss_table.npy'\n",
    "    fname_sizes = f'.cache_trained/{lam_low}_{lam_high}_{lam_len}_example_size_table.npy'\n",
    "    try:\n",
    "        loss_table = np.load(fname_loss)\n",
    "        sizes_table = np.load(fname_sizes)\n",
    "    except:\n",
    "        print(\"computing loss and size table\")\n",
    "        loss_table = np.zeros((regions.shape[0], lam_len))\n",
    "        sizes_table = np.zeros((regions.shape[0], lam_len))\n",
    "#         print(loss_table.shape,sizes_table.shape)\n",
    "        for j in tqdm.tqdm(range(lam_len)):\n",
    "            est_regions = (regions >= -lambdas_example_table[j])\n",
    "#             print(\"loss_False_Neg\",loss_False_Neg(est_regions, regions, masks).shape)\n",
    "#             print(\"loss_table[:,j] \",loss_table[:,j].shape)\n",
    "            loss_table[:,j] = loss_False_Neg(est_regions, regions, masks) \n",
    "            sizes_table[:,j] = est_regions.sum(dim=1).sum(dim=1)/masks.sum(dim=1).sum(dim=1)\n",
    "\n",
    "        np.save(fname_loss, loss_table)\n",
    "        np.save(fname_sizes, sizes_table)\n",
    "\n",
    "\n",
    "        return loss_table, sizes_table\n",
    "# example_loss_table, example_sizes_table = get_example_loss_and_size_tables(regions, masks, \\\n",
    "#                                                                                    lambdas_example_table, \\\n",
    "#                                                                                    num_calib)"
   ]
  },
  {
   "cell_type": "code",
   "execution_count": 264,
   "id": "598c7960",
   "metadata": {},
   "outputs": [],
   "source": [
    "def trial_precomputed(example_loss_table, example_size_table, alpha, num_calib, num_lam, lambdas_example_table):\n",
    "    total=example_loss_table.shape[0]\n",
    "    perm = torch.randperm(example_loss_table.shape[0])\n",
    "    example_loss_table = example_loss_table[perm]\n",
    "    example_size_table = example_size_table[perm]\n",
    "    calib_losses, val_losses = (example_loss_table[0:num_calib], example_loss_table[num_calib:])\n",
    "    calib_sizes, val_sizes = (example_size_table[0:num_calib], example_size_table[num_calib:])\n",
    "\n",
    "    lhat = get_lhat(calib_losses[:,::-1], lambdas_example_table[::-1], alpha)\n",
    "\n",
    "    losses = val_losses[:,np.argmax(lambdas_example_table == lhat)]\n",
    "    #print(lhat,losses)\n",
    "    size = np.random.choice(val_sizes[:,np.argmax(lambdas_example_table == lhat)])\n",
    "\n",
    "    return lhat, losses.mean(), size"
   ]
  },
  {
   "cell_type": "code",
   "execution_count": null,
   "id": "6cca8326",
   "metadata": {},
   "outputs": [],
   "source": []
  },
  {
   "cell_type": "code",
   "execution_count": 265,
   "id": "7994bffe",
   "metadata": {},
   "outputs": [],
   "source": [
    "def get_lhat(calib_loss_table, lambdas, alpha, B=1):\n",
    "    n = calib_loss_table.shape[0]\n",
    "    rhat = calib_loss_table.mean(axis=0)\n",
    "#     print()\n",
    "\n",
    "    lhat_idx = max(np.argmax(((n/(n+1)) * rhat + B/(n+1)) >= alpha) - 1, 0) # Can't be -1.\n",
    "    #print(lhat_idx, lambdas[lhat_idx])\n",
    "    return lambdas[lhat_idx]\n",
    "\n"
   ]
  },
  {
   "cell_type": "code",
   "execution_count": 266,
   "id": "2d575074",
   "metadata": {},
   "outputs": [],
   "source": [
    "def plot_histograms(df, alpha, output_dir):\n",
    "    fig, axs = plt.subplots(nrows=1, ncols=2, figsize=(12,3))\n",
    "    axs[0].hist(df['risk'].to_numpy(), alpha=0.7, density=True)\n",
    "\n",
    "    normalized_size = df['sizes'].to_numpy()\n",
    "    axs[1].hist(normalized_size, bins=60, alpha=0.7, density=True)\n",
    "\n",
    "    axs[0].set_xlabel('risk')\n",
    "    axs[0].locator_params(axis='x', nbins=10)\n",
    "    axs[0].axvline(x=alpha,c='#999999',linestyle='--',alpha=0.7)\n",
    "    axs[0].set_ylabel('density')\n",
    "    axs[1].set_xlabel('set size as a fraction of polyp size')\n",
    "    axs[1].locator_params(axis='x', nbins=10)\n",
    "    axs[1].set_yscale('log')\n",
    "    #axs[1].legend()\n",
    "    sns.despine(top=True, right=True, ax=axs[0])\n",
    "    sns.despine(top=True, right=True, ax=axs[1])\n",
    "    plt.tight_layout()\n",
    "    plt.savefig( output_dir + (f'{alpha}_polyp_histograms').replace('.','_') + '.pdf'  )\n",
    "    print(f\"The mean and standard deviation of the risk over {len(df)} trials are {df['risk'].mean()} and {df['risk'].std()} respectively.\")"
   ]
  },
  {
   "cell_type": "code",
   "execution_count": 267,
   "id": "b2c40f07",
   "metadata": {},
   "outputs": [],
   "source": [
    "def fix_randomness(seed=0):\n",
    "    np.random.seed(seed=seed)\n",
    "    torch.manual_seed(seed)\n",
    "    torch.cuda.manual_seed(seed)\n",
    "    random.seed(seed)"
   ]
  },
  {
   "cell_type": "code",
   "execution_count": 268,
   "id": "e418cd9f",
   "metadata": {},
   "outputs": [],
   "source": [
    "import shutil\n",
    "# shutil.rmtree(cache_path)\n",
    "# patch_gt_inst__.shape\n",
    "shutil.rmtree('./.cache_trained/')"
   ]
  },
  {
   "cell_type": "code",
   "execution_count": 269,
   "id": "c7938c76",
   "metadata": {},
   "outputs": [
    {
     "name": "stdout",
     "output_type": "stream",
     "text": [
      "computing loss and size table\n"
     ]
    },
    {
     "name": "stderr",
     "output_type": "stream",
     "text": [
      "100%|█████████████████████████████████████████████████████████████████████████████████| 500/500 [02:17<00:00,  3.63it/s]\n"
     ]
    }
   ],
   "source": [
    "with torch.no_grad():\n",
    "        sns.set(palette='pastel', font='serif')\n",
    "        sns.set_style('white')\n",
    "        fix_randomness()\n",
    "\n",
    "        cache_path = './.cache_trained/'\n",
    "        output_dir = 'outputs/histograms/'\n",
    "        pathlib.Path(cache_path).mkdir(parents=True, exist_ok=True)\n",
    "        pathlib.Path(output_dir).mkdir(parents=True, exist_ok=True)\n",
    "\n",
    "        num_trials = len(patch_gt_inst__)\n",
    "        num_calib = 500\n",
    "        num_lam = 500\n",
    "        alpha = 0.03\n",
    "        lambdas_example_table = np.linspace(-1,0,500)\n",
    "        masks = patch_gt_inst__\n",
    "        regions = patch_pred_inst__\n",
    "        # num_components = get_data(cache_path)\n",
    "        masks[masks > 1] = 1\n",
    "#         df = experiment(patch_gt_inst__, patch_gt_inst__, alpha, num_trials, \\\n",
    "#                         num_calib, num_lam, output_dir, lambdas_example_table)\n",
    "\n",
    "\n",
    "\n",
    "        fname = cache_path +'/'+ f'{alpha}_{num_calib}_{num_lam}_dataframe'.replace('.','_') + '.pkl'\n",
    "    #     os.makedirs(fname, exist_ok=True)\n",
    "\n",
    "        df = pd.DataFrame(columns=['$\\\\hat{\\\\lambda}$','risk','sizes','alpha'])\n",
    "    #     try:\n",
    "    #         print('Dataframe loaded')\n",
    "    #         df = pd.read_pickle(fname)\n",
    "    #     except:\n",
    "        example_loss_table_FP, example_sizes_table_FP = get_example_loss_and_size_tables_False_Pos(regions, masks, \\\n",
    "                                                                                   lambdas_example_table, \\\n",
    "                                                                                   num_calib)\n",
    "\n",
    "#         local_df_list = []\n",
    "#         for i in tqdm.tqdm(range(num_trials)):\n",
    "#             lhat, risk, sizes = \\\n",
    "#             trial_precomputed(example_loss_table, example_sizes_table, alpha, num_calib, num_lam, lambdas_example_table)\n",
    "# #             print(\"lhat\",lhat)\n",
    "#             dict_local = {\"$\\\\hat{\\\\lambda}$\": lhat, \"risk\": risk, \"sizes\": sizes, \"alpha\": alpha}\n",
    "#             df_local = pd.DataFrame(dict_local, index=[i])\n",
    "#             local_df_list = local_df_list + [df_local]\n",
    "#         df = pd.concat(local_df_list, axis=0, ignore_index=True)\n",
    "#         df.to_pickle(fname)\n",
    "#         plot_histograms(df, alpha, output_dir)\n"
   ]
  },
  {
   "cell_type": "code",
   "execution_count": 17,
   "id": "1ced05fe",
   "metadata": {},
   "outputs": [
    {
     "name": "stdout",
     "output_type": "stream",
     "text": [
      "computing loss and size table\n"
     ]
    },
    {
     "name": "stderr",
     "output_type": "stream",
     "text": [
      "100%|█████████████████████████████████████████████████████████████████████████████████| 500/500 [03:26<00:00,  2.42it/s]\n",
      "100%|████████████████████████████████████████████████████████████████████████████████| 654/654 [00:00<00:00, 736.67it/s]\n"
     ]
    },
    {
     "name": "stdout",
     "output_type": "stream",
     "text": [
      "The mean and standard deviation of the risk over 654 trials are 0.04778028364407875 and 0.007966967581959165 respectively.\n"
     ]
    },
    {
     "data": {
      "image/png": "[encoded data removed]",
      "text/plain": [
       "<Figure size 864x216 with 2 Axes>"
      ]
     },
     "metadata": {
      "needs_background": "light"
     },
     "output_type": "display_data"
    }
   ],
   "source": [
    "with torch.no_grad():\n",
    "        sns.set(palette='pastel', font='serif')\n",
    "        sns.set_style('white')\n",
    "        fix_randomness()\n",
    "\n",
    "        cache_path = './.cache_trained/'\n",
    "        output_dir = 'outputs/histograms/'\n",
    "        pathlib.Path(cache_path).mkdir(parents=True, exist_ok=True)\n",
    "        pathlib.Path(output_dir).mkdir(parents=True, exist_ok=True)\n",
    "\n",
    "        num_trials = len(patch_gt_inst__)\n",
    "        num_calib = 500\n",
    "        num_lam = 500\n",
    "        alpha = 0.05\n",
    "        lambdas_example_table = np.linspace(-1,0,500)\n",
    "        masks = patch_gt_inst__\n",
    "        regions = patch_pred_inst__\n",
    "        # num_components = get_data(cache_path)\n",
    "        masks[masks > 1] = 1\n",
    "#         df = experiment(patch_gt_inst__, patch_gt_inst__, alpha, num_trials, \\\n",
    "#                         num_calib, num_lam, output_dir, lambdas_example_table)\n",
    "\n",
    "\n",
    "\n",
    "        fname = cache_path +'/'+ f'{alpha}_{num_calib}_{num_lam}_dataframe'.replace('.','_') + '.pkl'\n",
    "    #     os.makedirs(fname, exist_ok=True)\n",
    "\n",
    "        df = pd.DataFrame(columns=['$\\\\hat{\\\\lambda}$','risk','sizes','alpha'])\n",
    "    #     try:\n",
    "    #         print('Dataframe loaded')\n",
    "    #         df = pd.read_pickle(fname)\n",
    "    #     except:\n",
    "        example_loss_table, example_sizes_table = get_example_loss_and_size_tables(regions, masks, \\\n",
    "                                                                                   lambdas_example_table, \\\n",
    "                                                                                   num_calib)\n",
    "\n",
    "        local_df_list = []\n",
    "        for i in tqdm.tqdm(range(num_trials)):\n",
    "            lhat, risk, sizes = \\\n",
    "            trial_precomputed(example_loss_table, example_sizes_table, alpha, num_calib, num_lam, lambdas_example_table)\n",
    "#             print(\"lhat\",lhat)\n",
    "            dict_local = {\"$\\\\hat{\\\\lambda}$\": lhat, \"risk\": risk, \"sizes\": sizes, \"alpha\": alpha}\n",
    "            df_local = pd.DataFrame(dict_local, index=[i])\n",
    "            local_df_list = local_df_list + [df_local]\n",
    "        df = pd.concat(local_df_list, axis=0, ignore_index=True)\n",
    "        df.to_pickle(fname)\n",
    "        plot_histograms(df, alpha, output_dir)\n"
   ]
  },
  {
   "cell_type": "code",
   "execution_count": 43,
   "id": "238f7155",
   "metadata": {},
   "outputs": [
    {
     "data": {
      "text/plain": [
       "[<matplotlib.lines.Line2D at 0x7f1cfc098850>]"
      ]
     },
     "execution_count": 43,
     "metadata": {},
     "output_type": "execute_result"
    },
    {
     "data": {
      "image/png": "[encoded data removed]",
      "text/plain": [
       "<Figure size 432x288 with 1 Axes>"
      ]
     },
     "metadata": {},
     "output_type": "display_data"
    }
   ],
   "source": [
    "plt.plot(lambdas_example_table,example_loss_table[0])\n",
    "plt.plot(lambdas_example_table,example_loss_table_FP[0])\n",
    "# example_loss_table.shape\n",
    "# lambdas_example_table.shape"
   ]
  },
  {
   "cell_type": "code",
   "execution_count": 44,
   "id": "f4834f8d",
   "metadata": {},
   "outputs": [
    {
     "data": {
      "text/plain": [
       "[<matplotlib.lines.Line2D at 0x7f1cfc083bb0>]"
      ]
     },
     "execution_count": 44,
     "metadata": {},
     "output_type": "execute_result"
    },
    {
     "data": {
      "image/png": "[encoded data removed]",
      "text/plain": [
       "<Figure size 432x288 with 1 Axes>"
      ]
     },
     "metadata": {},
     "output_type": "display_data"
    }
   ],
   "source": [
    "plt.plot(lambdas_example_table,-example_loss_table_FP[0])"
   ]
  },
  {
   "cell_type": "code",
   "execution_count": 270,
   "id": "3e04ca5a",
   "metadata": {},
   "outputs": [],
   "source": [
    "def get_lhat_FP(calib_loss_table, lambdas, alpha, B=1):\n",
    "    n = calib_loss_table.shape[0]\n",
    "    rhat = calib_loss_table.mean(axis=0)\n",
    "#     print()\n",
    "\n",
    "    lhat_idx = max(np.argmax(((n/(n+1)) * rhat + B/(n+1)) <= alpha) - 1, 0) # Can't be -1.\n",
    "    #print(lhat_idx, lambdas[lhat_idx])\n",
    "    return lambdas[lhat_idx]"
   ]
  },
  {
   "cell_type": "code",
   "execution_count": 271,
   "id": "2fc780f1",
   "metadata": {},
   "outputs": [],
   "source": [
    "def trial_precomputed(example_loss_table, example_size_table, alpha, num_calib, num_lam, lambdas_example_table):\n",
    "    total=example_loss_table.shape[0]\n",
    "    perm = torch.randperm(example_loss_table.shape[0])\n",
    "    example_loss_table = example_loss_table[perm]\n",
    "    example_size_table = example_size_table[perm]\n",
    "    calib_losses, val_losses = (example_loss_table[0:num_calib], example_loss_table[num_calib:])\n",
    "    calib_sizes, val_sizes = (example_size_table[0:num_calib], example_size_table[num_calib:])\n",
    "\n",
    "    lhat = get_lhat_FP(calib_losses[:,::-1], lambdas_example_table[::-1], alpha,0)\n",
    "\n",
    "    losses = val_losses[:,np.argmax(lambdas_example_table == lhat)]\n",
    "    #print(lhat,losses)\n",
    "    size = np.random.choice(val_sizes[:,np.argmax(lambdas_example_table == lhat)])\n",
    "\n",
    "    return lhat, losses.mean(), size"
   ]
  },
  {
   "cell_type": "code",
   "execution_count": 272,
   "id": "6497ae88",
   "metadata": {},
   "outputs": [
    {
     "name": "stderr",
     "output_type": "stream",
     "text": [
      "100%|██████████████████████████████████████████████████████████████████████████████| 1000/1000 [00:02<00:00, 484.04it/s]\n"
     ]
    },
    {
     "name": "stdout",
     "output_type": "stream",
     "text": [
      "The mean and standard deviation of the risk over 1000 trials are 0.010296887174885519 and 0.0009001944310611012 respectively.\n"
     ]
    },
    {
     "data": {
      "image/png": "[encoded data removed]",
      "text/plain": [
       "<Figure size 864x216 with 2 Axes>"
      ]
     },
     "metadata": {},
     "output_type": "display_data"
    }
   ],
   "source": [
    "local_df_list = []\n",
    "for i in tqdm.tqdm(range(num_trials)):\n",
    "    lhat, risk, sizes = \\\n",
    "    trial_precomputed(example_loss_table_FP, example_sizes_table_FP, alpha, num_calib, num_lam, lambdas_example_table)\n",
    "#             print(\"lhat\",lhat)\n",
    "    dict_local = {\"$\\\\hat{\\\\lambda}$\": lhat, \"risk\": risk, \"sizes\": sizes, \"alpha\": alpha}\n",
    "    df_local = pd.DataFrame(dict_local, index=[i])\n",
    "    local_df_list = local_df_list + [df_local]\n",
    "df = pd.concat(local_df_list, axis=0, ignore_index=True)\n",
    "df.to_pickle(fname)\n",
    "plot_histograms(df, alpha, output_dir)"
   ]
  },
  {
   "cell_type": "code",
   "execution_count": 273,
   "id": "61591022",
   "metadata": {},
   "outputs": [
    {
     "data": {
      "text/plain": [
       "-0.7855711422845691"
      ]
     },
     "execution_count": 273,
     "metadata": {},
     "output_type": "execute_result"
    }
   ],
   "source": [
    "lhat"
   ]
  },
  {
   "cell_type": "code",
   "execution_count": 274,
   "id": "baf6c1d6",
   "metadata": {},
   "outputs": [
    {
     "data": {
      "text/plain": [
       "(array([ 14.,   0.,   0.,   0.,   0.,   0.,   0., 101.,   0.,   0.,   0.,\n",
       "          0.,   0.,   0.,   0., 230.,   0.,   0.,   0.,   0.,   0.,   0.,\n",
       "        335.,   0.,   0.,   0.,   0.,   0.,   0.,   0., 220.,   0.,   0.,\n",
       "          0.,   0.,   0.,   0.,  75.,   0.,   0.,   0.,   0.,   0.,   0.,\n",
       "          0.,  19.,   0.,   0.,   0.,   0.,   0.,   0.,   5.,   0.,   0.,\n",
       "          0.,   0.,   0.,   0.,   1.]),\n",
       " array([-0.79358717, -0.79331997, -0.79305277, -0.79278557, -0.79251837,\n",
       "        -0.79225117, -0.79198397, -0.79171677, -0.79144957, -0.79118236,\n",
       "        -0.79091516, -0.79064796, -0.79038076, -0.79011356, -0.78984636,\n",
       "        -0.78957916, -0.78931196, -0.78904476, -0.78877756, -0.78851035,\n",
       "        -0.78824315, -0.78797595, -0.78770875, -0.78744155, -0.78717435,\n",
       "        -0.78690715, -0.78663995, -0.78637275, -0.78610554, -0.78583834,\n",
       "        -0.78557114, -0.78530394, -0.78503674, -0.78476954, -0.78450234,\n",
       "        -0.78423514, -0.78396794, -0.78370073, -0.78343353, -0.78316633,\n",
       "        -0.78289913, -0.78263193, -0.78236473, -0.78209753, -0.78183033,\n",
       "        -0.78156313, -0.78129593, -0.78102872, -0.78076152, -0.78049432,\n",
       "        -0.78022712, -0.77995992, -0.77969272, -0.77942552, -0.77915832,\n",
       "        -0.77889112, -0.77862391, -0.77835671, -0.77808951, -0.77782231,\n",
       "        -0.77755511]),\n",
       " <BarContainer object of 60 artists>)"
      ]
     },
     "execution_count": 274,
     "metadata": {},
     "output_type": "execute_result"
    },
    {
     "data": {
      "image/png": "[encoded data removed]",
      "text/plain": [
       "<Figure size 432x288 with 1 Axes>"
      ]
     },
     "metadata": {},
     "output_type": "display_data"
    }
   ],
   "source": [
    "plt.hist(df['$\\hat{\\lambda}$'],bins=60)\n",
    "# lhat\n"
   ]
  },
  {
   "cell_type": "code",
   "execution_count": 275,
   "id": "cdd4febb",
   "metadata": {},
   "outputs": [],
   "source": [
    "patch_gt_accum = patch_gt_inst__\n",
    "patch_pred_accum = patch_pred_inst__"
   ]
  },
  {
   "cell_type": "code",
   "execution_count": 276,
   "id": "d08b481a",
   "metadata": {},
   "outputs": [],
   "source": [
    "# np.unique(patch_gt_inst__[in_dex])"
   ]
  },
  {
   "cell_type": "code",
   "execution_count": 290,
   "id": "91c6e19c",
   "metadata": {},
   "outputs": [
    {
     "data": {
      "text/plain": [
       "torch.Size([128, 128])"
      ]
     },
     "execution_count": 290,
     "metadata": {},
     "output_type": "execute_result"
    },
    {
     "data": {
      "image/png": "[encoded data removed]",
      "text/plain": [
       "<Figure size 432x288 with 2 Axes>"
      ]
     },
     "metadata": {},
     "output_type": "display_data"
    },
    {
     "data": {
      "image/png": "[encoded data removed]",
      "text/plain": [
       "<Figure size 432x288 with 1 Axes>"
      ]
     },
     "metadata": {},
     "output_type": "display_data"
    }
   ],
   "source": [
    "in_dex = 679\n",
    "plt.imshow(patch_pred_accum[in_dex])\n",
    "plt.colorbar()\n",
    "plt.figure()\n",
    "plt.imshow(patch_gt_inst__[in_dex])\n",
    "patch_gt_inst__[in_dex].shape"
   ]
  },
  {
   "cell_type": "code",
   "execution_count": 299,
   "id": "34fd13af",
   "metadata": {},
   "outputs": [
    {
     "data": {
      "text/plain": [
       "<matplotlib.image.AxesImage at 0x7f28e5cff340>"
      ]
     },
     "execution_count": 299,
     "metadata": {},
     "output_type": "execute_result"
    },
    {
     "data": {
      "image/png": "[encoded data removed]",
      "text/plain": [
       "<Figure size 432x288 with 1 Axes>"
      ]
     },
     "metadata": {},
     "output_type": "display_data"
    }
   ],
   "source": [
    "# plt.imshow(patch_pred_accum[in_dex]>(-df['$\\hat{\\lambda}$'].mean()),cmap='gray')\n",
    "plt.imshow(patch_pred_accum[in_dex]>0.65,cmap='gray')"
   ]
  },
  {
   "cell_type": "code",
   "execution_count": 309,
   "id": "91580d88",
   "metadata": {},
   "outputs": [
    {
     "ename": "error",
     "evalue": "OpenCV(4.6.0) /io/opencv/modules/imgproc/src/morph.simd.hpp:756: error: (-213:The function/feature is not implemented) Unsupported data type (=4) in function 'getMorphologyRowFilter'\n",
     "output_type": "error",
     "traceback": [
      "\u001b[0;31m---------------------------------------------------------------------------\u001b[0m",
      "\u001b[0;31merror\u001b[0m                                     Traceback (most recent call last)",
      "Input \u001b[0;32mIn [309]\u001b[0m, in \u001b[0;36m<cell line: 8>\u001b[0;34m()\u001b[0m\n\u001b[1;32m      4\u001b[0m mm_ \u001b[38;5;241m=\u001b[39m np\u001b[38;5;241m.\u001b[39marray(patch_pred_accum[in_dex]\u001b[38;5;241m>\u001b[39m\u001b[38;5;241m0.65\u001b[39m)\u001b[38;5;241m.\u001b[39mastype(\u001b[38;5;124m'\u001b[39m\u001b[38;5;124mint64\u001b[39m\u001b[38;5;124m'\u001b[39m)\n\u001b[1;32m      5\u001b[0m \u001b[38;5;66;03m# defining the opening function \u001b[39;00m\n\u001b[1;32m      6\u001b[0m \u001b[38;5;66;03m# over the image and structuring element\u001b[39;00m\n\u001b[1;32m      7\u001b[0m \u001b[38;5;66;03m# np.unique(mm_),mm_.dtype\u001b[39;00m\n\u001b[0;32m----> 8\u001b[0m opening \u001b[38;5;241m=\u001b[39m cv2\u001b[38;5;241m.\u001b[39mmorphologyEx(mm_, cv2\u001b[38;5;241m.\u001b[39mMORPH_OPEN, kernel)\n",
      "\u001b[0;31merror\u001b[0m: OpenCV(4.6.0) /io/opencv/modules/imgproc/src/morph.simd.hpp:756: error: (-213:The function/feature is not implemented) Unsupported data type (=4) in function 'getMorphologyRowFilter'\n"
     ]
    }
   ],
   "source": [
    "# defining the kernel i.e. Structuring element\n",
    "import cv2\n",
    "kernel = np.ones((5, 5), np.uint8)\n",
    "mm_ = np.array(patch_pred_accum[in_dex]>0.65).astype('int64')\n",
    "# defining the opening function \n",
    "# over the image and structuring element\n",
    "# np.unique(mm_),mm_.dtype\n",
    "opening = cv2.morphologyEx(mm_, cv2.MORPH_OPEN, kernel)"
   ]
  },
  {
   "cell_type": "code",
   "execution_count": 284,
   "id": "acbb3112",
   "metadata": {},
   "outputs": [
    {
     "data": {
      "text/plain": [
       "<matplotlib.image.AxesImage at 0x7f28f841cbb0>"
      ]
     },
     "execution_count": 284,
     "metadata": {},
     "output_type": "execute_result"
    },
    {
     "data": {
      "image/png": "[encoded data removed]",
      "text/plain": [
       "<Figure size 432x288 with 1 Axes>"
      ]
     },
     "metadata": {},
     "output_type": "display_data"
    }
   ],
   "source": [
    "plt.imshow(patch_gt_accum[in_dex],cmap='gray')"
   ]
  },
  {
   "cell_type": "code",
   "execution_count": 198,
   "id": "a7cb55b8",
   "metadata": {},
   "outputs": [
    {
     "name": "stderr",
     "output_type": "stream",
     "text": [
      "Clipping input data to the valid range for imshow with RGB data ([0..1] for floats or [0..255] for integers).\n"
     ]
    },
    {
     "data": {
      "text/plain": [
       "<matplotlib.image.AxesImage at 0x7f290c456e20>"
      ]
     },
     "execution_count": 198,
     "metadata": {},
     "output_type": "execute_result"
    },
    {
     "data": {
      "image/png": "[encoded data removed]",
      "text/plain": [
       "<Figure size 432x288 with 1 Axes>"
      ]
     },
     "metadata": {},
     "output_type": "display_data"
    }
   ],
   "source": [
    "final_ = np.array(torch.ones(patch_gt_accum.shape[-2],patch_gt_accum.shape[-1],3))\n",
    "pred = np.array(patch_pred_accum[in_dex]>(-df['$\\hat{\\lambda}$'].mean()))\n",
    "gt_ = np.array(patch_gt_accum[in_dex]>0)\n",
    "final_[:,:,0] = (pred & gt_) * 255\n",
    "final_[:,:,1] = ((pred & gt_) ^ (gt_)) * 255\n",
    "final_[:,:,2] = ((pred & gt_) ^ (pred)) * 255\n",
    "plt.imshow(final_)\n",
    "# plt.imshow()"
   ]
  },
  {
   "cell_type": "code",
   "execution_count": 199,
   "id": "2b4d7514",
   "metadata": {},
   "outputs": [],
   "source": [
    "metrics = lambda pred,gt_: ((pred & gt_).sum(),((pred & gt_) ^ (gt_)).sum(),\\\n",
    "                               ((pred & gt_) ^ (pred)).sum(), (~pred & ~gt_).sum())"
   ]
  },
  {
   "cell_type": "code",
   "execution_count": 249,
   "id": "dcda220d",
   "metadata": {},
   "outputs": [
    {
     "data": {
      "text/plain": [
       "(1.7130118570291961, 89.41413760289421, 0.14324046066246274)"
      ]
     },
     "execution_count": 249,
     "metadata": {},
     "output_type": "execute_result"
    }
   ],
   "source": [
    "pred = np.array(patch_pred_accum>(-df['$\\hat{\\lambda}$'].mean()))\n",
    "gt_ = np.array(patch_gt_accum>0)\n",
    "TP_FN_FP_TN=metrics(pred,gt_)\n",
    "FNR = TP_FN_FP_TN[1]*100/(TP_FN_FP_TN[1]+TP_FN_FP_TN[0])\n",
    "FPR = TP_FN_FP_TN[2]*100/(TP_FN_FP_TN[2]+TP_FN_FP_TN[3])\n",
    "dice = 2*TP_FN_FP_TN[0]/(2*TP_FN_FP_TN[0]+TP_FN_FP_TN[1]+TP_FN_FP_TN[2])\n",
    "FPR,FNR,dice"
   ]
  },
  {
   "cell_type": "code",
   "execution_count": 294,
   "id": "ad668097",
   "metadata": {},
   "outputs": [
    {
     "data": {
      "text/plain": [
       "(10.499125525103118, 59.07938287052322, 0.22176714716428222)"
      ]
     },
     "execution_count": 294,
     "metadata": {},
     "output_type": "execute_result"
    }
   ],
   "source": [
    "pred = np.array(patch_pred_accum>0.65)\n",
    "gt_ = np.array(patch_gt_accum>0)\n",
    "TP_FN_FP_TN=metrics(pred,gt_)\n",
    "FNR = TP_FN_FP_TN[1]*100/(TP_FN_FP_TN[1]+TP_FN_FP_TN[0])\n",
    "FPR = TP_FN_FP_TN[2]*100/(TP_FN_FP_TN[2]+TP_FN_FP_TN[3])\n",
    "dice = 2*TP_FN_FP_TN[0]/(2*TP_FN_FP_TN[0]+TP_FN_FP_TN[1]+TP_FN_FP_TN[2])\n",
    "FPR,FNR,dice"
   ]
  },
  {
   "cell_type": "code",
   "execution_count": 216,
   "id": "89ec7262",
   "metadata": {},
   "outputs": [
    {
     "name": "stderr",
     "output_type": "stream",
     "text": [
      "100%|█████████████████████████████████████████████████████████████████████████████████| 100/100 [00:11<00:00,  9.04it/s]\n"
     ]
    }
   ],
   "source": [
    "lam_ = np.linspace(0,1,100)\n",
    "dice_list = []\n",
    "FNR_list = []\n",
    "FPR_list = []\n",
    "for i in tqdm.tqdm(range(0,len(lam_))):\n",
    "    pred = np.array(patch_pred_accum>lam_[i])\n",
    "    gt_ = np.array(patch_gt_accum>0)\n",
    "    TP_FN_FP_TN=metrics(pred,gt_)\n",
    "    FNR_list.append(TP_FN_FP_TN[1]/(TP_FN_FP_TN[1]+TP_FN_FP_TN[0]))\n",
    "    \n",
    "    FPR_list.append(TP_FN_FP_TN[2]/(TP_FN_FP_TN[2]+TP_FN_FP_TN[3]))\n",
    "    dice = 2*TP_FN_FP_TN[0]/(2*TP_FN_FP_TN[0]+TP_FN_FP_TN[1]+TP_FN_FP_TN[2])\n",
    "    dice_list.append(dice)\n",
    "    \n",
    "    \n"
   ]
  },
  {
   "cell_type": "code",
   "execution_count": 259,
   "id": "4f1b95dd",
   "metadata": {},
   "outputs": [
    {
     "data": {
      "text/plain": [
       "<matplotlib.legend.Legend at 0x7f290dbf5910>"
      ]
     },
     "execution_count": 259,
     "metadata": {},
     "output_type": "execute_result"
    },
    {
     "data": {
      "image/png": "[encoded data removed]",
      "text/plain": [
       "<Figure size 432x288 with 1 Axes>"
      ]
     },
     "metadata": {},
     "output_type": "display_data"
    }
   ],
   "source": [
    "plt.plot(lam_,dice_list,label='Dice')\n",
    "plt.plot(lam_,FNR_list,label='FNR')\n",
    "plt.plot(lam_,FPR_list,label='FPR')\n",
    "plt.scatter(-lhat,alpha,label='optimal')\n",
    "# plt.yticks()\n",
    "plt.legend()"
   ]
  },
  {
   "cell_type": "code",
   "execution_count": 325,
   "id": "7ee3b5b4",
   "metadata": {},
   "outputs": [],
   "source": [
    "in_dex=198"
   ]
  },
  {
   "cell_type": "code",
   "execution_count": 326,
   "id": "9ae0530b",
   "metadata": {},
   "outputs": [
    {
     "name": "stderr",
     "output_type": "stream",
     "text": [
      "Clipping input data to the valid range for imshow with RGB data ([0..1] for floats or [0..255] for integers).\n"
     ]
    },
    {
     "data": {
      "text/plain": [
       "<matplotlib.image.AxesImage at 0x7f28f883f640>"
      ]
     },
     "execution_count": 326,
     "metadata": {},
     "output_type": "execute_result"
    },
    {
     "data": {
      "image/png": "[encoded data removed]",
      "text/plain": [
       "<Figure size 432x288 with 1 Axes>"
      ]
     },
     "metadata": {},
     "output_type": "display_data"
    }
   ],
   "source": [
    "final_ = np.array(torch.ones(patch_gt_accum.shape[-2],patch_gt_accum.shape[-1],3))\n",
    "pred = np.array(patch_pred_accum[in_dex]>0.65)\n",
    "gt_ = np.array(patch_gt_accum[in_dex]>0)\n",
    "final_[:,:,0] = (pred & gt_) * 255\n",
    "final_[:,:,1] = ((pred & gt_) ^ (gt_)) * 255\n",
    "final_[:,:,2] = ((pred & gt_) ^ (pred)) * 255\n",
    "plt.imshow(final_)"
   ]
  },
  {
   "cell_type": "code",
   "execution_count": 327,
   "id": "3620a414",
   "metadata": {},
   "outputs": [
    {
     "data": {
      "text/plain": [
       "(22.554675118858952, 24.794745484400657, 0.19805405405405405)"
      ]
     },
     "execution_count": 327,
     "metadata": {},
     "output_type": "execute_result"
    }
   ],
   "source": [
    "TP_FN_FP_TN=metrics(pred,gt_)\n",
    "FNR = TP_FN_FP_TN[1]*100/(TP_FN_FP_TN[1]+TP_FN_FP_TN[0])\n",
    "FPR = TP_FN_FP_TN[2]*100/(TP_FN_FP_TN[2]+TP_FN_FP_TN[3])\n",
    "dice = 2*TP_FN_FP_TN[0]/(2*TP_FN_FP_TN[0]+TP_FN_FP_TN[1]+TP_FN_FP_TN[2])\n",
    "FPR,FNR,dice"
   ]
  },
  {
   "cell_type": "code",
   "execution_count": null,
   "id": "7d858da8",
   "metadata": {},
   "outputs": [],
   "source": []
  }
 ],
 "metadata": {
  "kernelspec": {
   "display_name": "Python 3 (ipykernel)",
   "language": "python",
   "name": "python3"
  },
  "language_info": {
   "codemirror_mode": {
    "name": "ipython",
    "version": 3
   },
   "file_extension": ".py",
   "mimetype": "text/x-python",
   "name": "python",
   "nbconvert_exporter": "python",
   "pygments_lexer": "ipython3",
   "version": "3.8.10"
  },
  "vscode": {
   "interpreter": {
    "hash": "5b3ded1ccb95c1d9bd405e7b823d9e85424cde40fbb5985eb47e999ef50e15b4"
   }
  }
 },
 "nbformat": 4,
 "nbformat_minor": 5
}
